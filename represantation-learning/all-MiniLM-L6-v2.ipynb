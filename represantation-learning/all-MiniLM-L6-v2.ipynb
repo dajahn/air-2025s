{
 "cells": [
  {
   "cell_type": "code",
   "execution_count": 1,
   "id": "0d88ff91-29c8-4ee3-9b83-0bcaf573fb1f",
   "metadata": {},
   "outputs": [],
   "source": [
    "import pandas as pd\n",
    "import numpy as np\n",
    "import time\n",
    "from tqdm import tqdm\n",
    "from sentence_transformers import SentenceTransformer, util"
   ]
  },
  {
   "cell_type": "code",
   "execution_count": 2,
   "id": "8033cfc1-7212-41a8-a2ae-321871296338",
   "metadata": {},
   "outputs": [
    {
     "name": "stdout",
     "output_type": "stream",
     "text": [
      "Loading model: all-MiniLM-L6-v2\n",
      "Model loaded in 2.90 seconds.\n"
     ]
    }
   ],
   "source": [
    "# Load SBERT model\n",
    "model_name = \"all-MiniLM-L6-v2\"\n",
    "print(f\"Loading model: {model_name}\")\n",
    "start_time = time.time()\n",
    "model = SentenceTransformer(model_name)\n",
    "load_time = time.time() - start_time\n",
    "print(f\"Model loaded in {load_time:.2f} seconds.\")"
   ]
  },
  {
   "cell_type": "code",
   "execution_count": 3,
   "id": "84b78b20-39cd-4c25-a26e-9c04471e0a7f",
   "metadata": {},
   "outputs": [],
   "source": [
    "# Load Data\n",
    "PATH_COLLECTION_DATA = 'subtask4b_collection_data.pkl'\n",
    "\n",
    "df_collection = pd.read_pickle(PATH_COLLECTION_DATA)\n",
    "\n",
    "PATH_QUERY_TRAIN_DATA = 'subtask4b_query_tweets_train.tsv'\n",
    "PATH_QUERY_DEV_DATA = 'subtask4b_query_tweets_dev.tsv'\n",
    "\n",
    "df_query_train = pd.read_csv(PATH_QUERY_TRAIN_DATA, sep = '\\t')\n",
    "df_query_dev = pd.read_csv(PATH_QUERY_DEV_DATA, sep = '\\t')"
   ]
  },
  {
   "cell_type": "code",
   "execution_count": 4,
   "id": "0b8ed0ad-526b-420f-8bad-a29274bc12bb",
   "metadata": {},
   "outputs": [
    {
     "name": "stdout",
     "output_type": "stream",
     "text": [
      "Sample tweet train: Oral care in rehabilitation medicine: oral vulnerability, oral muscle wasting, and hospital-associated oral issues\n",
      "Sample tweet dev: covid recovery: this study from the usa reveals that a proportion of cases experience impairment in some cognitive functions for several months after infection. some possible biases &amp; limitations but more research is required on impact of these long term effects.\n",
      "Sample doc title: Professional and Home-Made Face Masks Reduce Exposure to Respiratory Infections among the General Population\n"
     ]
    },
    {
     "data": {
      "text/html": [
       "<div>\n",
       "<style scoped>\n",
       "    .dataframe tbody tr th:only-of-type {\n",
       "        vertical-align: middle;\n",
       "    }\n",
       "\n",
       "    .dataframe tbody tr th {\n",
       "        vertical-align: top;\n",
       "    }\n",
       "\n",
       "    .dataframe thead th {\n",
       "        text-align: right;\n",
       "    }\n",
       "</style>\n",
       "<table border=\"1\" class=\"dataframe\">\n",
       "  <thead>\n",
       "    <tr style=\"text-align: right;\">\n",
       "      <th></th>\n",
       "      <th>post_id</th>\n",
       "      <th>tweet_text</th>\n",
       "      <th>cord_uid</th>\n",
       "    </tr>\n",
       "  </thead>\n",
       "  <tbody>\n",
       "    <tr>\n",
       "      <th>0</th>\n",
       "      <td>16</td>\n",
       "      <td>covid recovery: this study from the usa reveal...</td>\n",
       "      <td>3qvh482o</td>\n",
       "    </tr>\n",
       "    <tr>\n",
       "      <th>1</th>\n",
       "      <td>69</td>\n",
       "      <td>\"Among 139 clients exposed to two symptomatic ...</td>\n",
       "      <td>r58aohnu</td>\n",
       "    </tr>\n",
       "    <tr>\n",
       "      <th>2</th>\n",
       "      <td>73</td>\n",
       "      <td>I recall early on reading that researchers who...</td>\n",
       "      <td>sts48u9i</td>\n",
       "    </tr>\n",
       "    <tr>\n",
       "      <th>3</th>\n",
       "      <td>93</td>\n",
       "      <td>You know you're credible when NIH website has ...</td>\n",
       "      <td>3sr2exq9</td>\n",
       "    </tr>\n",
       "    <tr>\n",
       "      <th>4</th>\n",
       "      <td>96</td>\n",
       "      <td>Resistance to antifungal medications is a grow...</td>\n",
       "      <td>ybwwmyqy</td>\n",
       "    </tr>\n",
       "  </tbody>\n",
       "</table>\n",
       "</div>"
      ],
      "text/plain": [
       "   post_id                                         tweet_text  cord_uid\n",
       "0       16  covid recovery: this study from the usa reveal...  3qvh482o\n",
       "1       69  \"Among 139 clients exposed to two symptomatic ...  r58aohnu\n",
       "2       73  I recall early on reading that researchers who...  sts48u9i\n",
       "3       93  You know you're credible when NIH website has ...  3sr2exq9\n",
       "4       96  Resistance to antifungal medications is a grow...  ybwwmyqy"
      ]
     },
     "execution_count": 4,
     "metadata": {},
     "output_type": "execute_result"
    }
   ],
   "source": [
    "# Check data\n",
    "print(\"Sample tweet train:\", df_query_train['tweet_text'].iloc[0])\n",
    "print(\"Sample tweet dev:\", df_query_dev['tweet_text'].iloc[0])\n",
    "print(\"Sample doc title:\", df_collection['title'].iloc[0])\n",
    "\n",
    "df_query_dev.head()"
   ]
  },
  {
   "cell_type": "code",
   "execution_count": 5,
   "id": "8fee80f8-f018-4095-8b76-ff4d1b3a59ed",
   "metadata": {},
   "outputs": [
    {
     "name": "stdout",
     "output_type": "stream",
     "text": [
      "Encoding documents...\n"
     ]
    },
    {
     "data": {
      "application/vnd.jupyter.widget-view+json": {
       "model_id": "7323f3e2df624938bfac0159bb3d709a",
       "version_major": 2,
       "version_minor": 0
      },
      "text/plain": [
       "Batches:   0%|          | 0/242 [00:00<?, ?it/s]"
      ]
     },
     "metadata": {},
     "output_type": "display_data"
    },
    {
     "name": "stdout",
     "output_type": "stream",
     "text": [
      "Document encoding time: 584.28 seconds\n"
     ]
    }
   ],
   "source": [
    "# Encode documents\n",
    "print(\"Encoding documents...\")\n",
    "start = time.time()\n",
    "df_collection['full_text'] = df_collection['title'].fillna('') + \" \" + df_collection['abstract'].fillna('')\n",
    "doc_embeddings = model.encode(df_collection['full_text'].tolist(), show_progress_bar=True, convert_to_tensor=True)\n",
    "doc_encoding_time = time.time() - start\n",
    "print(f\"Document encoding time: {doc_encoding_time:.2f} seconds\")"
   ]
  },
  {
   "cell_type": "code",
   "execution_count": 6,
   "id": "e7f2b3d9-8c4c-4e3b-897d-e10c3d4c18c2",
   "metadata": {},
   "outputs": [
    {
     "name": "stdout",
     "output_type": "stream",
     "text": [
      "Encoding tweets...\n"
     ]
    },
    {
     "data": {
      "application/vnd.jupyter.widget-view+json": {
       "model_id": "5414e7a4da0d45958155e72561ccdcdf",
       "version_major": 2,
       "version_minor": 0
      },
      "text/plain": [
       "Batches:   0%|          | 0/44 [00:00<?, ?it/s]"
      ]
     },
     "metadata": {},
     "output_type": "display_data"
    },
    {
     "name": "stdout",
     "output_type": "stream",
     "text": [
      "Tweet encoding time: 142.30 seconds\n"
     ]
    }
   ],
   "source": [
    "print(\"Encoding tweets...\")\n",
    "start = time.time()\n",
    "tweet_embeddings = model.encode(df_query_dev['tweet_text'].tolist(), convert_to_tensor=True, show_progress_bar=True)\n",
    "tweet_encoding_time = time.time() - start\n",
    "print(f\"Tweet encoding time: {tweet_encoding_time:.2f} seconds\")"
   ]
  },
  {
   "cell_type": "code",
   "execution_count": 7,
   "id": "8d4f3950-57ee-427b-b92e-bcbe9ba4befd",
   "metadata": {},
   "outputs": [
    {
     "name": "stderr",
     "output_type": "stream",
     "text": [
      "100%|███████████████████████████████████████| 1400/1400 [00:27<00:00, 51.78it/s]\n"
     ]
    }
   ],
   "source": [
    "# Similarity & Top-5 Predictions\n",
    "import torch\n",
    "\n",
    "predictions = []\n",
    "\n",
    "tweet_texts = df_query_dev['tweet_text'].tolist()\n",
    "tweet_ids = df_query_dev['post_id'].tolist()\n",
    "true_labels = df_query_dev['cord_uid'].tolist()\n",
    "\n",
    "doc_texts = df_collection['full_text'].tolist()\n",
    "doc_uids = df_collection['cord_uid'].tolist()\n",
    "\n",
    "for i in tqdm(range(len(tweet_embeddings))):\n",
    "    tweet_vec = tweet_embeddings[i]\n",
    "    cosine_scores = util.cos_sim(tweet_vec, doc_embeddings)[0]\n",
    "    top_results = torch.topk(cosine_scores, k=5)\n",
    "    top_indices = top_results.indices.tolist()\n",
    "    top_cord_uids = [doc_uids[idx] for idx in top_indices]\n",
    "\n",
    "    predictions.append({\n",
    "        'post_id': tweet_ids[i],\n",
    "        'tweet_text': tweet_texts[i],\n",
    "        'true': true_labels[i],\n",
    "        'preds': top_cord_uids\n",
    "    })\n"
   ]
  },
  {
   "cell_type": "code",
   "execution_count": 8,
   "id": "ab7a35b1-51d6-436a-a18b-72c0c0f2a6e0",
   "metadata": {},
   "outputs": [
    {
     "name": "stdout",
     "output_type": "stream",
     "text": [
      "MRR@5 for all-MiniLM-L6-v2: 0.4897\n"
     ]
    }
   ],
   "source": [
    "# MRR@5 Evaluation\n",
    "def mrr_at_k(predictions, k=5):\n",
    "    total_mrr = 0\n",
    "    for pred in predictions:\n",
    "        if pred['true'] in pred['preds']:\n",
    "            rank = pred['preds'].index(pred['true']) + 1\n",
    "            total_mrr += 1 / rank\n",
    "    return total_mrr / len(predictions)\n",
    "\n",
    "mrr5 = mrr_at_k(predictions, k=5)\n",
    "print(f\"MRR@5 for all-MiniLM-L6-v2: {mrr5:.4f}\")"
   ]
  },
  {
   "cell_type": "code",
   "execution_count": 9,
   "id": "d68fd58a-e08e-4293-882d-840a9bacbae4",
   "metadata": {},
   "outputs": [],
   "source": [
    "df_out = pd.DataFrame()\n",
    "df_out['post_id'] = [p['post_id'] for p in predictions]\n",
    "df_out['preds'] = [str(p['preds']) for p in predictions]\n",
    "\n",
    "df_out.to_csv('predictions_all-MiniLM-L6-v2.tsv', sep='\\t', index=False)"
   ]
  },
  {
   "cell_type": "code",
   "execution_count": 10,
   "id": "eee49cfb-309c-4ed0-bb02-27d4b4019ba5",
   "metadata": {},
   "outputs": [
    {
     "name": "stdout",
     "output_type": "stream",
     "text": [
      "Short tweet count: 32\n",
      "MRR@5 on short tweets: 0.30989583333333337\n",
      "Accuracy (hit in top-5): 0.40625\n"
     ]
    },
    {
     "data": {
      "text/html": [
       "<div>\n",
       "<style scoped>\n",
       "    .dataframe tbody tr th:only-of-type {\n",
       "        vertical-align: middle;\n",
       "    }\n",
       "\n",
       "    .dataframe tbody tr th {\n",
       "        vertical-align: top;\n",
       "    }\n",
       "\n",
       "    .dataframe thead th {\n",
       "        text-align: right;\n",
       "    }\n",
       "</style>\n",
       "<table border=\"1\" class=\"dataframe\">\n",
       "  <thead>\n",
       "    <tr style=\"text-align: right;\">\n",
       "      <th></th>\n",
       "      <th>post_id</th>\n",
       "      <th>tweet_text</th>\n",
       "      <th>true</th>\n",
       "      <th>preds</th>\n",
       "      <th>hit_in_top5</th>\n",
       "      <th>mrr@5</th>\n",
       "    </tr>\n",
       "  </thead>\n",
       "  <tbody>\n",
       "    <tr>\n",
       "      <th>112</th>\n",
       "      <td>1119</td>\n",
       "      <td>it doesn't stop it. it reduces the risk of it....</td>\n",
       "      <td>w0ebmg16</td>\n",
       "      <td>[9ezhwvv9, pecyac7l, wk61uyrt, 65n6p550, ropgq...</td>\n",
       "      <td>False</td>\n",
       "      <td>0.0</td>\n",
       "    </tr>\n",
       "    <tr>\n",
       "      <th>126</th>\n",
       "      <td>1229</td>\n",
       "      <td>How can indoor spread of COVID-19 through the ...</td>\n",
       "      <td>od5nnxvg</td>\n",
       "      <td>[aawjla6h, 4p6fcy8f, gqwwfpch, 5zn5mgi9, je585...</td>\n",
       "      <td>False</td>\n",
       "      <td>0.0</td>\n",
       "    </tr>\n",
       "    <tr>\n",
       "      <th>210</th>\n",
       "      <td>2132</td>\n",
       "      <td>Lives lost to covid-19 in 81 countries  #ovhea...</td>\n",
       "      <td>6a728le9</td>\n",
       "      <td>[pn516wom, 6a728le9, 5053t5ki, xolflz8g, ef4wy...</td>\n",
       "      <td>True</td>\n",
       "      <td>0.5</td>\n",
       "    </tr>\n",
       "    <tr>\n",
       "      <th>249</th>\n",
       "      <td>2492</td>\n",
       "      <td>Hospital admission rate is 10x higher in unvac...</td>\n",
       "      <td>rpjg4a9i</td>\n",
       "      <td>[xjc0l0tv, z1y1zgo8, 929rrh59, 9sh9mk6p, yaedo...</td>\n",
       "      <td>False</td>\n",
       "      <td>0.0</td>\n",
       "    </tr>\n",
       "    <tr>\n",
       "      <th>271</th>\n",
       "      <td>2719</td>\n",
       "      <td>Vitamins and risk of COVID-19</td>\n",
       "      <td>ikon1ktb</td>\n",
       "      <td>[l4zku2e9, z2jtzsl6, md0drb25, lgtpeqhw, o8nf7...</td>\n",
       "      <td>False</td>\n",
       "      <td>0.0</td>\n",
       "    </tr>\n",
       "    <tr>\n",
       "      <th>308</th>\n",
       "      <td>3071</td>\n",
       "      <td>Death from COVID-19 isn't the only issue. Brai...</td>\n",
       "      <td>dogsza0f</td>\n",
       "      <td>[x7qlnugx, ok9o9tta, byvsuvn0, 6mfd3n4s, xolfl...</td>\n",
       "      <td>False</td>\n",
       "      <td>0.0</td>\n",
       "    </tr>\n",
       "    <tr>\n",
       "      <th>349</th>\n",
       "      <td>3491</td>\n",
       "      <td>Bile salts in gut and liver pathophysiology</td>\n",
       "      <td>mlozjg9h</td>\n",
       "      <td>[mlozjg9h, 306381wy, 2199ydle, fjzhe9tp, 3xpfj...</td>\n",
       "      <td>True</td>\n",
       "      <td>1.0</td>\n",
       "    </tr>\n",
       "    <tr>\n",
       "      <th>385</th>\n",
       "      <td>3874</td>\n",
       "      <td>the vaccine can worsen covid.... why would you...</td>\n",
       "      <td>rb20ge7e</td>\n",
       "      <td>[tcby6780, rfv0omd6, pofysmv8, 72jwlfqr, 20xgq...</td>\n",
       "      <td>False</td>\n",
       "      <td>0.0</td>\n",
       "    </tr>\n",
       "    <tr>\n",
       "      <th>417</th>\n",
       "      <td>4218</td>\n",
       "      <td>Masks function.  Vaccines function.  Your refu...</td>\n",
       "      <td>1s8jzzwg</td>\n",
       "      <td>[lkb09vs8, u8mu4yga, 4mx9t5td, z86g8dzs, 9qsqj...</td>\n",
       "      <td>False</td>\n",
       "      <td>0.0</td>\n",
       "    </tr>\n",
       "    <tr>\n",
       "      <th>485</th>\n",
       "      <td>4894</td>\n",
       "      <td>human IgG neutralizing monoclonal antibodies b...</td>\n",
       "      <td>ypls4zau</td>\n",
       "      <td>[ryj83uw3, 0tn06al2, a1pa6g5c, 40fvjskj, hb2bp...</td>\n",
       "      <td>False</td>\n",
       "      <td>0.0</td>\n",
       "    </tr>\n",
       "  </tbody>\n",
       "</table>\n",
       "</div>"
      ],
      "text/plain": [
       "     post_id                                         tweet_text      true  \\\n",
       "112     1119  it doesn't stop it. it reduces the risk of it....  w0ebmg16   \n",
       "126     1229  How can indoor spread of COVID-19 through the ...  od5nnxvg   \n",
       "210     2132  Lives lost to covid-19 in 81 countries  #ovhea...  6a728le9   \n",
       "249     2492  Hospital admission rate is 10x higher in unvac...  rpjg4a9i   \n",
       "271     2719                      Vitamins and risk of COVID-19  ikon1ktb   \n",
       "308     3071  Death from COVID-19 isn't the only issue. Brai...  dogsza0f   \n",
       "349     3491        Bile salts in gut and liver pathophysiology  mlozjg9h   \n",
       "385     3874  the vaccine can worsen covid.... why would you...  rb20ge7e   \n",
       "417     4218  Masks function.  Vaccines function.  Your refu...  1s8jzzwg   \n",
       "485     4894  human IgG neutralizing monoclonal antibodies b...  ypls4zau   \n",
       "\n",
       "                                                 preds  hit_in_top5  mrr@5  \n",
       "112  [9ezhwvv9, pecyac7l, wk61uyrt, 65n6p550, ropgq...        False    0.0  \n",
       "126  [aawjla6h, 4p6fcy8f, gqwwfpch, 5zn5mgi9, je585...        False    0.0  \n",
       "210  [pn516wom, 6a728le9, 5053t5ki, xolflz8g, ef4wy...         True    0.5  \n",
       "249  [xjc0l0tv, z1y1zgo8, 929rrh59, 9sh9mk6p, yaedo...        False    0.0  \n",
       "271  [l4zku2e9, z2jtzsl6, md0drb25, lgtpeqhw, o8nf7...        False    0.0  \n",
       "308  [x7qlnugx, ok9o9tta, byvsuvn0, 6mfd3n4s, xolfl...        False    0.0  \n",
       "349  [mlozjg9h, 306381wy, 2199ydle, fjzhe9tp, 3xpfj...         True    1.0  \n",
       "385  [tcby6780, rfv0omd6, pofysmv8, 72jwlfqr, 20xgq...        False    0.0  \n",
       "417  [lkb09vs8, u8mu4yga, 4mx9t5td, z86g8dzs, 9qsqj...        False    0.0  \n",
       "485  [ryj83uw3, 0tn06al2, a1pa6g5c, 40fvjskj, hb2bp...        False    0.0  "
      ]
     },
     "execution_count": 10,
     "metadata": {},
     "output_type": "execute_result"
    }
   ],
   "source": [
    "df_preds = pd.DataFrame(predictions)\n",
    "\n",
    "df_preds['length'] = df_preds['tweet_text'].str.len()\n",
    "short_tweets = df_preds[df_preds['length'] < 80].copy()\n",
    "\n",
    "def mrr_score(preds, true_label):\n",
    "    if true_label in preds:\n",
    "        return 1 / (preds.index(true_label) + 1)\n",
    "    else:\n",
    "        return 0\n",
    "\n",
    "short_tweets['hit_in_top5'] = short_tweets.apply(lambda row: row['true'] in row['preds'], axis=1)\n",
    "short_tweets['mrr@5'] = short_tweets.apply(lambda row: mrr_score(row['preds'], row['true']), axis=1)\n",
    "\n",
    "print(\"Short tweet count:\", len(short_tweets))\n",
    "print(\"MRR@5 on short tweets:\", short_tweets['mrr@5'].mean())\n",
    "print(\"Accuracy (hit in top-5):\", short_tweets['hit_in_top5'].mean())\n",
    "\n",
    "short_tweets[['post_id', 'tweet_text', 'true', 'preds', 'hit_in_top5', 'mrr@5']].head(10)"
   ]
  },
  {
   "cell_type": "code",
   "execution_count": 11,
   "id": "2795a163-dcc2-477f-929d-813e254f1088",
   "metadata": {},
   "outputs": [
    {
     "name": "stdout",
     "output_type": "stream",
     "text": [
      "Correct matches: 846\n",
      "Wrong matches: 554\n",
      "Sample Wrong Matches:\n"
     ]
    },
    {
     "data": {
      "text/html": [
       "<div>\n",
       "<style scoped>\n",
       "    .dataframe tbody tr th:only-of-type {\n",
       "        vertical-align: middle;\n",
       "    }\n",
       "\n",
       "    .dataframe tbody tr th {\n",
       "        vertical-align: top;\n",
       "    }\n",
       "\n",
       "    .dataframe thead th {\n",
       "        text-align: right;\n",
       "    }\n",
       "</style>\n",
       "<table border=\"1\" class=\"dataframe\">\n",
       "  <thead>\n",
       "    <tr style=\"text-align: right;\">\n",
       "      <th></th>\n",
       "      <th>post_id</th>\n",
       "      <th>tweet_text</th>\n",
       "      <th>top_5</th>\n",
       "      <th>true_cord_uid</th>\n",
       "      <th>similarity_scores</th>\n",
       "    </tr>\n",
       "  </thead>\n",
       "  <tbody>\n",
       "    <tr>\n",
       "      <th>0</th>\n",
       "      <td>116</td>\n",
       "      <td>IL-6 seems to be a primary catalyst of this un...</td>\n",
       "      <td>[vx9vqr1k, z9jqbliw, pxhetma5, zt5alyy2, 3r418...</td>\n",
       "      <td>8cvjsisw</td>\n",
       "      <td>[0.7486677169799805, 0.6814455389976501, 0.671...</td>\n",
       "    </tr>\n",
       "    <tr>\n",
       "      <th>1</th>\n",
       "      <td>150</td>\n",
       "      <td>Significant vitamin D deficiency in people wit...</td>\n",
       "      <td>[n24k9s1s, dx2cx9lx, z2jtzsl6, wjdif3r3, l4zku...</td>\n",
       "      <td>be8eu3qi</td>\n",
       "      <td>[0.8709943890571594, 0.8707948923110962, 0.870...</td>\n",
       "    </tr>\n",
       "    <tr>\n",
       "      <th>2</th>\n",
       "      <td>158</td>\n",
       "      <td>The wearing of masks is associated with reduce...</td>\n",
       "      <td>[f96qs295, jjh1z5c6, zue5hnal, 0clp6zt6, 4mx9t...</td>\n",
       "      <td>9b6cepf4</td>\n",
       "      <td>[0.5498321056365967, 0.5204370617866516, 0.520...</td>\n",
       "    </tr>\n",
       "    <tr>\n",
       "      <th>3</th>\n",
       "      <td>169</td>\n",
       "      <td>Let's not forget our unheralded heroes?  peer-...</td>\n",
       "      <td>[24u6q3ae, xnxn506o, bw6a5gmy, s3vaa0yc, imheo...</td>\n",
       "      <td>z9vjo98p</td>\n",
       "      <td>[0.8383280038833618, 0.7862822413444519, 0.777...</td>\n",
       "    </tr>\n",
       "    <tr>\n",
       "      <th>4</th>\n",
       "      <td>173</td>\n",
       "      <td>Here's your proof, Hannah  betting on \"herd im...</td>\n",
       "      <td>[dpws8p4y, vjpf1fk6, ruewzstg, 5kz2s7ag, u1ilc...</td>\n",
       "      <td>q77tr31d</td>\n",
       "      <td>[0.635127604007721, 0.6033356785774231, 0.5958...</td>\n",
       "    </tr>\n",
       "  </tbody>\n",
       "</table>\n",
       "</div>"
      ],
      "text/plain": [
       "   post_id                                         tweet_text  \\\n",
       "0      116  IL-6 seems to be a primary catalyst of this un...   \n",
       "1      150  Significant vitamin D deficiency in people wit...   \n",
       "2      158  The wearing of masks is associated with reduce...   \n",
       "3      169  Let's not forget our unheralded heroes?  peer-...   \n",
       "4      173  Here's your proof, Hannah  betting on \"herd im...   \n",
       "\n",
       "                                               top_5 true_cord_uid  \\\n",
       "0  [vx9vqr1k, z9jqbliw, pxhetma5, zt5alyy2, 3r418...      8cvjsisw   \n",
       "1  [n24k9s1s, dx2cx9lx, z2jtzsl6, wjdif3r3, l4zku...      be8eu3qi   \n",
       "2  [f96qs295, jjh1z5c6, zue5hnal, 0clp6zt6, 4mx9t...      9b6cepf4   \n",
       "3  [24u6q3ae, xnxn506o, bw6a5gmy, s3vaa0yc, imheo...      z9vjo98p   \n",
       "4  [dpws8p4y, vjpf1fk6, ruewzstg, 5kz2s7ag, u1ilc...      q77tr31d   \n",
       "\n",
       "                                   similarity_scores  \n",
       "0  [0.7486677169799805, 0.6814455389976501, 0.671...  \n",
       "1  [0.8709943890571594, 0.8707948923110962, 0.870...  \n",
       "2  [0.5498321056365967, 0.5204370617866516, 0.520...  \n",
       "3  [0.8383280038833618, 0.7862822413444519, 0.777...  \n",
       "4  [0.635127604007721, 0.6033356785774231, 0.5958...  "
      ]
     },
     "metadata": {},
     "output_type": "display_data"
    },
    {
     "name": "stdout",
     "output_type": "stream",
     "text": [
      "Sample Correct Matches:\n"
     ]
    },
    {
     "data": {
      "text/html": [
       "<div>\n",
       "<style scoped>\n",
       "    .dataframe tbody tr th:only-of-type {\n",
       "        vertical-align: middle;\n",
       "    }\n",
       "\n",
       "    .dataframe tbody tr th {\n",
       "        vertical-align: top;\n",
       "    }\n",
       "\n",
       "    .dataframe thead th {\n",
       "        text-align: right;\n",
       "    }\n",
       "</style>\n",
       "<table border=\"1\" class=\"dataframe\">\n",
       "  <thead>\n",
       "    <tr style=\"text-align: right;\">\n",
       "      <th></th>\n",
       "      <th>post_id</th>\n",
       "      <th>tweet_text</th>\n",
       "      <th>top_5</th>\n",
       "      <th>true_cord_uid</th>\n",
       "      <th>similarity_scores</th>\n",
       "    </tr>\n",
       "  </thead>\n",
       "  <tbody>\n",
       "    <tr>\n",
       "      <th>0</th>\n",
       "      <td>16</td>\n",
       "      <td>covid recovery: this study from the usa reveal...</td>\n",
       "      <td>[3qvh482o, jrqlhjsm, 8t2tic9n, nksd3wuw, styav...</td>\n",
       "      <td>3qvh482o</td>\n",
       "      <td>[0.827496349811554, 0.7675719261169434, 0.7385...</td>\n",
       "    </tr>\n",
       "    <tr>\n",
       "      <th>1</th>\n",
       "      <td>69</td>\n",
       "      <td>\"Among 139 clients exposed to two symptomatic ...</td>\n",
       "      <td>[r58aohnu, eay6qfhz, 8je46886, u8mu4yga, yrowv...</td>\n",
       "      <td>r58aohnu</td>\n",
       "      <td>[0.8370003700256348, 0.6915689706802368, 0.665...</td>\n",
       "    </tr>\n",
       "    <tr>\n",
       "      <th>2</th>\n",
       "      <td>73</td>\n",
       "      <td>I recall early on reading that researchers who...</td>\n",
       "      <td>[qkg8fwbp, sts48u9i, u5nxm9tu, lp0r7j5c, myqli...</td>\n",
       "      <td>sts48u9i</td>\n",
       "      <td>[0.6119166016578674, 0.5853146910667419, 0.585...</td>\n",
       "    </tr>\n",
       "    <tr>\n",
       "      <th>3</th>\n",
       "      <td>93</td>\n",
       "      <td>You know you're credible when NIH website has ...</td>\n",
       "      <td>[jo38hjqa, mgtxchud, 9mdf927z, l5ogbl5p, 3sr2e...</td>\n",
       "      <td>3sr2exq9</td>\n",
       "      <td>[0.6730215549468994, 0.659010648727417, 0.6428...</td>\n",
       "    </tr>\n",
       "    <tr>\n",
       "      <th>4</th>\n",
       "      <td>96</td>\n",
       "      <td>Resistance to antifungal medications is a grow...</td>\n",
       "      <td>[ybwwmyqy, vabb2f26, rs3umc1x, 3l6ipiwk, lzddn...</td>\n",
       "      <td>ybwwmyqy</td>\n",
       "      <td>[0.7652779817581177, 0.5990149974822998, 0.565...</td>\n",
       "    </tr>\n",
       "  </tbody>\n",
       "</table>\n",
       "</div>"
      ],
      "text/plain": [
       "   post_id                                         tweet_text  \\\n",
       "0       16  covid recovery: this study from the usa reveal...   \n",
       "1       69  \"Among 139 clients exposed to two symptomatic ...   \n",
       "2       73  I recall early on reading that researchers who...   \n",
       "3       93  You know you're credible when NIH website has ...   \n",
       "4       96  Resistance to antifungal medications is a grow...   \n",
       "\n",
       "                                               top_5 true_cord_uid  \\\n",
       "0  [3qvh482o, jrqlhjsm, 8t2tic9n, nksd3wuw, styav...      3qvh482o   \n",
       "1  [r58aohnu, eay6qfhz, 8je46886, u8mu4yga, yrowv...      r58aohnu   \n",
       "2  [qkg8fwbp, sts48u9i, u5nxm9tu, lp0r7j5c, myqli...      sts48u9i   \n",
       "3  [jo38hjqa, mgtxchud, 9mdf927z, l5ogbl5p, 3sr2e...      3sr2exq9   \n",
       "4  [ybwwmyqy, vabb2f26, rs3umc1x, 3l6ipiwk, lzddn...      ybwwmyqy   \n",
       "\n",
       "                                   similarity_scores  \n",
       "0  [0.827496349811554, 0.7675719261169434, 0.7385...  \n",
       "1  [0.8370003700256348, 0.6915689706802368, 0.665...  \n",
       "2  [0.6119166016578674, 0.5853146910667419, 0.585...  \n",
       "3  [0.6730215549468994, 0.659010648727417, 0.6428...  \n",
       "4  [0.7652779817581177, 0.5990149974822998, 0.565...  "
      ]
     },
     "metadata": {},
     "output_type": "display_data"
    }
   ],
   "source": [
    "wrong_matches = []\n",
    "correct_matches = []\n",
    "for tweet_id, tweet_text, true_uid, tweet_emb in zip(tweet_ids, tweet_texts, true_labels, tweet_embeddings):\n",
    "    cosine_scores = util.cos_sim(tweet_emb, doc_embeddings)[0]\n",
    "\n",
    "    top_k = 5\n",
    "    top_results = torch.topk(cosine_scores, k=top_k)\n",
    "\n",
    "    top_indices = top_results.indices.tolist()\n",
    "    top_similarities = top_results.values.tolist()\n",
    "    top_cord_uids = [doc_uids[idx] for idx in top_indices]\n",
    "\n",
    "    result = {\n",
    "        'post_id': tweet_id,\n",
    "        'tweet_text': tweet_text,\n",
    "        'top_5': top_cord_uids,\n",
    "        'true_cord_uid': true_uid,\n",
    "        'similarity_scores': top_similarities\n",
    "    }\n",
    "\n",
    "    if true_uid in top_cord_uids:\n",
    "        correct_matches.append(result)\n",
    "    else:\n",
    "        wrong_matches.append(result)\n",
    "\n",
    "df_correct_matches = pd.DataFrame(correct_matches)\n",
    "df_wrong_matches = pd.DataFrame(wrong_matches)\n",
    "\n",
    "print(f\"Correct matches: {len(df_correct_matches)}\")\n",
    "print(f\"Wrong matches: {len(df_wrong_matches)}\")\n",
    "\n",
    "from IPython.display import display\n",
    "\n",
    "print(\"Sample Wrong Matches:\")\n",
    "display(df_wrong_matches[['post_id', 'tweet_text', 'top_5', 'true_cord_uid', 'similarity_scores']].head())\n",
    "\n",
    "print(\"Sample Correct Matches:\")\n",
    "display(df_correct_matches[['post_id', 'tweet_text', 'top_5', 'true_cord_uid', 'similarity_scores']].head())"
   ]
  },
  {
   "cell_type": "code",
   "execution_count": 13,
   "id": "5df7633a-de28-44b9-a763-b86bcec6fdee",
   "metadata": {},
   "outputs": [
    {
     "name": "stderr",
     "output_type": "stream",
     "text": [
      "Encoding docs: 100%|██████████████████████| 7718/7718 [00:04<00:00, 1655.84it/s]\n",
      "Processing queries: 100%|███████████████████| 1400/1400 [00:23<00:00, 60.13it/s]"
     ]
    },
    {
     "name": "stdout",
     "output_type": "stream",
     "text": [
      "MRR@5: 0.2972\n"
     ]
    },
    {
     "name": "stderr",
     "output_type": "stream",
     "text": [
      "\n"
     ]
    }
   ],
   "source": [
    "from gensim.models import KeyedVectors\n",
    "\n",
    "model = KeyedVectors.load_word2vec_format('vec/wiki-news-300d-1M.vec', binary=False)\n",
    "\n",
    "def get_avg_embedding(text, model):\n",
    "    tokens = text.split()\n",
    "    embeddings = [model[word] for word in tokens if word in model]\n",
    "    if not embeddings:\n",
    "        return np.zeros(model.vector_size)\n",
    "    return np.mean(embeddings, axis=0)\n",
    "\n",
    "from sklearn.metrics.pairwise import cosine_similarity\n",
    "\n",
    "# Precompute document embeddings\n",
    "doc_texts = df_collection['full_text'].tolist()\n",
    "doc_ids = df_collection['cord_uid'].tolist()\n",
    "doc_embs = [get_avg_embedding(text, model) for text in tqdm(doc_texts, desc='Encoding docs')]\n",
    "\n",
    "k = 5\n",
    "predictions = []\n",
    "for _, row in tqdm(df_query_dev.iterrows(), total=len(df_query_dev), desc='Processing queries'):\n",
    "    tweet_vec = get_avg_embedding(row['tweet_text'], model)\n",
    "    similarities = cosine_similarity([tweet_vec], doc_embs)[0]\n",
    "    top_k_indices = np.argsort(similarities)[-k:][::-1]\n",
    "    top_k_doc_ids = [doc_ids[i] for i in top_k_indices]\n",
    "\n",
    "    predictions.append({\n",
    "        'post_id': row['post_id'],\n",
    "        'true': row['cord_uid'],\n",
    "        'preds': top_k_doc_ids\n",
    "    })\n",
    "\n",
    "mrr_score = mrr_at_k(predictions, k=5)\n",
    "print(f\"MRR@{k}: {mrr_score:.4f}\")"
   ]
  },
  {
   "cell_type": "code",
   "execution_count": 15,
   "id": "91ba5009-c5e4-4aa6-b7fc-abecb0fe30de",
   "metadata": {},
   "outputs": [
    {
     "name": "stderr",
     "output_type": "stream",
     "text": [
      "Encoding docs: 100%|██████████████████████| 7718/7718 [00:05<00:00, 1513.87it/s]\n",
      "Processing queries: 100%|███████████████████| 1400/1400 [00:20<00:00, 67.56it/s]"
     ]
    },
    {
     "name": "stdout",
     "output_type": "stream",
     "text": [
      "MRR@5: 0.3402\n"
     ]
    },
    {
     "name": "stderr",
     "output_type": "stream",
     "text": [
      "\n"
     ]
    }
   ],
   "source": [
    "model = KeyedVectors.load_word2vec_format('vec/crawl-300d-2M.vec', binary=False)\n",
    "doc_embs = [get_avg_embedding(text, model) for text in tqdm(doc_texts, desc='Encoding docs')]\n",
    "k = 5\n",
    "predictions = []\n",
    "for _, row in tqdm(df_query_dev.iterrows(), total=len(df_query_dev), desc='Processing queries'):\n",
    "    tweet_vec = get_avg_embedding(row['tweet_text'], model)\n",
    "    similarities = cosine_similarity([tweet_vec], doc_embs)[0]\n",
    "    top_k_indices = np.argsort(similarities)[-k:][::-1]\n",
    "    top_k_doc_ids = [doc_ids[i] for i in top_k_indices]\n",
    "\n",
    "    predictions.append({\n",
    "        'post_id': row['post_id'],\n",
    "        'true': row['cord_uid'],\n",
    "        'preds': top_k_doc_ids\n",
    "    })\n",
    "\n",
    "mrr_score = mrr_at_k(predictions, k=5)\n",
    "print(f\"MRR@{k}: {mrr_score:.4f}\")"
   ]
  },
  {
   "cell_type": "code",
   "execution_count": 16,
   "id": "4462fac5-5cac-4475-afb8-b3da26b28612",
   "metadata": {},
   "outputs": [],
   "source": [
    "df_out_fasttext_crawl = pd.DataFrame()\n",
    "df_out_fasttext_crawl['post_id'] = [p['post_id'] for p in predictions]\n",
    "df_out_fasttext_crawl['preds'] = [str(p['preds']) for p in predictions]\n",
    "\n",
    "df_out_fasttext_crawl.to_csv('predictions_fasttext_crawl-300d.tsv', sep='\\t', index=False)"
   ]
  },
  {
   "cell_type": "code",
   "execution_count": null,
   "id": "c491f152-b0d8-49ea-a1d2-67c661643f53",
   "metadata": {},
   "outputs": [],
   "source": [
    "from sentence_transformers import SentenceTransformer, InputExample, losses, util\n",
    "from torch.utils.data import DataLoader\n",
    "import random\n",
    "\n",
    "model = SentenceTransformer('multi-qa-MiniLM-L6-cos-v1')\n",
    "\n",
    "train_examples = []\n",
    "\n",
    "all_doc_ids = df_collection['cord_uid'].tolist()\n",
    "\n",
    "for idx, row in df_query_train.iterrows():\n",
    "    tweet = row['tweet_text']\n",
    "    pos_uid = row['cord_uid']\n",
    "\n",
    "    positive_doc = df_collection[df_collection['cord_uid'] == pos_uid]\n",
    "    if positive_doc.empty:\n",
    "        continue\n",
    "    pos_text = positive_doc.iloc[0]['title'] + \" \" + positive_doc.iloc[0]['abstract']\n",
    "\n",
    "    negative_uids = [uid for uid in all_doc_ids if uid != pos_uid]\n",
    "    neg_uid = random.choice(negative_uids)\n",
    "    negative_doc = df_collection[df_collection['cord_uid'] == neg_uid]\n",
    "    if negative_doc.empty:\n",
    "        continue\n",
    "    neg_text = negative_doc.iloc[0]['title'] + \" \" + negative_doc.iloc[0]['abstract']\n",
    "\n",
    "    train_examples.append(InputExample(texts=[tweet, pos_text, neg_text]))\n",
    "\n",
    "train_dataloader = DataLoader(train_examples, shuffle=True, batch_size=16)\n",
    "train_loss = losses.TripletLoss(model=model)\n",
    "\n",
    "model.fit(\n",
    "    train_objectives=[(train_dataloader, train_loss)],\n",
    "    epochs=3,\n",
    "    warmup_steps=100,\n",
    "    show_progress_bar=True\n",
    ")\n",
    "\n",
    "model.save('fine-tuned-multi-qa-MiniLM-L6-cos-v1')\n",
    "\n",
    "model_name = \"fine-tuned-multi-qa-MiniLM-L6-cos-v1\"\n",
    "print(f\"Loading model: {model_name}\")\n",
    "start_time = time.time()\n",
    "model = SentenceTransformer(model_name)\n",
    "load_time = time.time() - start_time\n",
    "print(f\"Model loaded in {load_time:.2f} seconds.\")\n",
    "\n",
    "print(\"Encoding documents...\")\n",
    "start = time.time()\n",
    "df_collection['full_text'] = df_collection['title'].fillna('') + \" \" + df_collection['abstract'].fillna('')\n",
    "doc_embeddings = model.encode(df_collection['full_text'].tolist(), show_progress_bar=True, convert_to_tensor=True)\n",
    "doc_encoding_time = time.time() - start\n",
    "print(f\"Document encoding time: {doc_encoding_time:.2f} seconds\")\n",
    "\n",
    "print(\"Encoding tweets...\")\n",
    "start = time.time()\n",
    "tweet_embeddings = model.encode(df_query_dev['tweet_text'].tolist(), convert_to_tensor=True, show_progress_bar=True)\n",
    "tweet_encoding_time = time.time() - start\n",
    "print(f\"Tweet encoding time: {tweet_encoding_time:.2f} seconds\")\n",
    "\n",
    "predictions = []\n",
    "\n",
    "tweet_texts = df_query_dev['tweet_text'].tolist()\n",
    "tweet_ids = df_query_dev['post_id'].tolist()\n",
    "true_labels = df_query_dev['cord_uid'].tolist()\n",
    "\n",
    "doc_texts = df_collection['full_text'].tolist()\n",
    "doc_uids = df_collection['cord_uid'].tolist()\n",
    "\n",
    "for i in tqdm(range(len(tweet_embeddings))):\n",
    "    tweet_vec = tweet_embeddings[i]\n",
    "    cosine_scores = util.cos_sim(tweet_vec, doc_embeddings)[0]\n",
    "    top_results = torch.topk(cosine_scores, k=5)\n",
    "    top_indices = top_results.indices.tolist()\n",
    "    top_cord_uids = [doc_uids[idx] for idx in top_indices]\n",
    "\n",
    "    predictions.append({\n",
    "        'post_id': tweet_ids[i],\n",
    "        'tweet_text': tweet_texts[i],\n",
    "        'true': true_labels[i],\n",
    "        'preds': top_cord_uids\n",
    "    })\n",
    "\n",
    "def mrr_at_k(predictions, k=5):\n",
    "    total_mrr = 0\n",
    "    for pred in predictions:\n",
    "        if pred['true'] in pred['preds']:\n",
    "            rank = pred['preds'].index(pred['true']) + 1\n",
    "            total_mrr += 1 / rank\n",
    "    return total_mrr / len(predictions)\n",
    "\n",
    "mrr5 = mrr_at_k(predictions, k=5)\n",
    "print(f\"MRR@5 for fine-tuned-all-MiniLM-L6-v2: {mrr5:.4f}\")\n",
    "\n",
    "df_out = pd.DataFrame()\n",
    "df_out['post_id'] = [p['post_id'] for p in predictions]\n",
    "df_out['preds'] = [str(p['preds']) for p in predictions]\n",
    "\n",
    "df_out.to_csv('predictions_multi-qa-MiniLM-L6-cos-v1.tsv', sep='\\t', index=False)"
   ]
  },
  {
   "cell_type": "code",
   "execution_count": null,
   "id": "180ce531-e3cc-46cd-a8d4-a5b02c1e3f4e",
   "metadata": {},
   "outputs": [],
   "source": []
  }
 ],
 "metadata": {
  "kernelspec": {
   "display_name": "Python 3 (ipykernel)",
   "language": "python",
   "name": "python3"
  },
  "language_info": {
   "codemirror_mode": {
    "name": "ipython",
    "version": 3
   },
   "file_extension": ".py",
   "mimetype": "text/x-python",
   "name": "python",
   "nbconvert_exporter": "python",
   "pygments_lexer": "ipython3",
   "version": "3.11.3"
  }
 },
 "nbformat": 4,
 "nbformat_minor": 5
}
